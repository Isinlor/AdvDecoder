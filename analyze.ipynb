{
 "cells": [
  {
   "cell_type": "code",
   "execution_count": null,
   "metadata": {},
   "outputs": [],
   "source": [
    "import numpy, matplotlib.pyplot as plt\n",
    "from transformers import AutoTokenizer, GPT2Tokenizer, GPT2LMHeadModel, RobertaForSequenceClassification\n",
    "\n",
    "from BatchTextGenerationPipeline import BatchTextGenerationPipeline\n",
    "from IsFakePipeline import IsFakePipeline\n",
    "\n",
    "tokenizer = GPT2Tokenizer.from_pretrained(\"gpt2\")\n",
    "model = GPT2LMHeadModel.from_pretrained(\"gpt2\")\n",
    "\n",
    "detector_tokenizer = AutoTokenizer.from_pretrained(\"roberta-base-openai-detector\")\n",
    "detector_model = RobertaForSequenceClassification.from_pretrained(\"roberta-base-openai-detector\")\n",
    "\n",
    "classifier = IsFakePipeline(model=detector_model, tokenizer=detector_tokenizer)\n",
    "generator = BatchTextGenerationPipeline(model=model, tokenizer=tokenizer)\n",
    "\n",
    "summarize = lambda classifications: {\n",
    "    \"min\": classifications.min(initial=1),\n",
    "    \"mean\": classifications.mean(),\n",
    "    \"meanAbsDev\": abs(classifications - classifications.mean()).mean(),\n",
    "    \"max\": classifications.max(initial=0)\n",
    "}\n",
    "\n",
    "describe = lambda texts: summarize(numpy.array(classifier(texts)))"
   ]
  },
  {
   "cell_type": "code",
   "execution_count": null,
   "metadata": {
    "pycharm": {
     "name": "#%%\n"
    }
   },
   "outputs": [],
   "source": [
    "experiments = 100\n",
    "generate_p = lambda top_p: generator.generate(\n",
    "    prompt=\"\",\n",
    "    generate_length=30,\n",
    "    num_return_sequences=experiments,\n",
    "    top_p=top_p,\n",
    "    no_repeat_ngram_size=3,\n",
    "    do_sample=True\n",
    ")\n",
    "generate_k = lambda top_k: generator.generate(\n",
    "    prompt=\"\",\n",
    "    generate_length=30,\n",
    "    num_return_sequences=experiments,\n",
    "    top_k=top_k,\n",
    "    no_repeat_ngram_size=3,\n",
    "    do_sample=True\n",
    ")\n",
    "\n",
    "top_p = [0.50, 0.67, 0.78, 0.85, 0.90, 0.93, 0.96, 0.97, 0.98, 0.99]\n",
    "top_k = [3, 5, 8, 13, 21, 34, 55, 89, 144, 233]"
   ]
  },
  {
   "cell_type": "code",
   "execution_count": null,
   "metadata": {
    "pycharm": {
     "name": "#%%\n"
    }
   },
   "outputs": [],
   "source": [
    "means_p = [describe(generate_p(p))['mean'] for p in top_p]"
   ]
  },
  {
   "cell_type": "code",
   "execution_count": null,
   "metadata": {
    "pycharm": {
     "name": "#%%\n"
    }
   },
   "outputs": [],
   "source": [
    "means_k = [describe(generate_k(k))['mean'] for k in top_k]"
   ]
  },
  {
   "cell_type": "code",
   "execution_count": null,
   "metadata": {
    "pycharm": {
     "name": "#%%\n"
    }
   },
   "outputs": [],
   "source": [
    "_, axes = plt.subplots(1, 2, figsize=[10, 4], sharey=True)\n",
    "\n",
    "fig = axes[0]\n",
    "fig.plot(top_p, means_p)\n",
    "fig.set_ylabel(\"Mean Accuracy\")\n",
    "fig.set_xlabel(\"p (Top-p sampling)\")\n",
    "fig = axes[1]\n",
    "fig.plot(top_k, means_k)\n",
    "fig.set_ylabel(\"Mean Accuracy\")\n",
    "fig.set_xlabel(\"k (Top-k sampling)\")\n",
    "plt.savefig('./gpt2-vs-acc.png')\n",
    "plt.show()"
   ]
  },
  {
   "cell_type": "code",
   "execution_count": null,
   "metadata": {
    "pycharm": {
     "name": "#%%\n"
    }
   },
   "outputs": [],
   "source": [
    "from AdvDecoder import decode, batch_decode\n",
    "generate_p_l = lambda length: generator.generate(\n",
    "    prompt=\"\",\n",
    "    generate_length=length,\n",
    "    num_return_sequences=experiments,\n",
    "    top_p=0.99,\n",
    "    no_repeat_ngram_size=3,\n",
    "    do_sample=True\n",
    ")\n",
    "generate_k_l = lambda length: generator.generate(\n",
    "    prompt=\"\",\n",
    "    generate_length=length,\n",
    "    num_return_sequences=experiments,\n",
    "    top_k=150,\n",
    "    no_repeat_ngram_size=3,\n",
    "    do_sample=True\n",
    ")\n",
    "generate_adv_l = lambda length: batch_decode(\n",
    "    batch=10,\n",
    "    prompt=\"\",\n",
    "    generate_length=length,\n",
    "    step=10,\n",
    "    sequences=3,\n",
    "    generator=generator,\n",
    "    classifier=classifier\n",
    ")\n",
    "generate_adv5_l = lambda length: batch_decode(\n",
    "    batch=10,\n",
    "    prompt=\"\",\n",
    "    generate_length=length,\n",
    "    step=10,\n",
    "    sequences=5,\n",
    "    generator=generator,\n",
    "    classifier=classifier\n",
    ")\n",
    "generate_adv10_l = lambda length: batch_decode(\n",
    "    batch=10,\n",
    "    prompt=\"\",\n",
    "    generate_length=length,\n",
    "    step=10,\n",
    "    sequences=10,\n",
    "    generator=generator,\n",
    "    classifier=classifier\n",
    ")\n",
    "\n",
    "lengths = [3, 5, 7, 11, 20, 30, 50, 100]"
   ]
  },
  {
   "cell_type": "code",
   "execution_count": null,
   "metadata": {
    "pycharm": {
     "name": "#%%\n"
    }
   },
   "outputs": [],
   "source": [
    "means_p_l = [describe(generate_p_l(l))['mean'] for l in lengths]"
   ]
  },
  {
   "cell_type": "code",
   "execution_count": null,
   "metadata": {
    "pycharm": {
     "name": "#%%\n"
    }
   },
   "outputs": [],
   "source": [
    "means_k_l = [describe(generate_k_l(l))['mean'] for l in lengths]"
   ]
  },
  {
   "cell_type": "code",
   "execution_count": null,
   "metadata": {},
   "outputs": [],
   "source": [
    "means_adv_l = [describe(generate_adv_l(l))['mean'] for l in lengths]"
   ]
  },
  {
   "cell_type": "code",
   "execution_count": null,
   "metadata": {},
   "outputs": [],
   "source": [
    "means_adv5_l = [describe(generate_adv5_l(l))['mean'] for l in lengths]"
   ]
  },
  {
   "cell_type": "code",
   "execution_count": null,
   "metadata": {},
   "outputs": [],
   "source": [
    "means_adv10_l = [describe(generate_adv10_l(l))['mean'] for l in lengths]"
   ]
  },
  {
   "cell_type": "code",
   "execution_count": null,
   "outputs": [],
   "source": [
    "plt.figure(figsize=[15, 6])\n",
    "fig = plt.gca()\n",
    "fig.plot(lengths, means_p_l, label=\"Top-p sampling (p=0.99)\")\n",
    "fig.plot(lengths, means_k_l, label=\"Top-k sampling (k=150)\")\n",
    "fig.plot(lengths, means_adv_l, label=\"Adversarial sampling (k=150, samples=3, step_size=10)\")\n",
    "fig.plot(lengths, means_adv5_l, label=\"Adversarial sampling (k=150, samples=5, step_size=10)\")\n",
    "fig.plot(lengths, means_adv10_l, label=\"Adversarial sampling (k=150, samples=10, step_size=10)\")\n",
    "fig.set_ylabel(\"Mean Accuracy\")\n",
    "fig.set_xlabel(\"Text Length (Tokens)\")\n",
    "fig.legend()\n",
    "plt.savefig('./gpt2-length-vs-acc.png')\n",
    "plt.show()"
   ],
   "metadata": {
    "collapsed": false,
    "pycharm": {
     "name": "#%%\n"
    }
   }
  },
  {
   "cell_type": "code",
   "execution_count": null,
   "metadata": {
    "pycharm": {
     "name": "#%%\n"
    }
   },
   "outputs": [],
   "source": [
    "\n",
    "\n",
    "print()"
   ]
  },
  {
   "cell_type": "code",
   "execution_count": null,
   "metadata": {},
   "outputs": [],
   "source": [
    "\n",
    "\n",
    "print()"
   ]
  }
 ],
 "metadata": {
  "kernelspec": {
   "display_name": "Python 3",
   "language": "python",
   "name": "python3"
  },
  "language_info": {
   "codemirror_mode": {
    "name": "ipython",
    "version": 3
   },
   "file_extension": ".py",
   "mimetype": "text/x-python",
   "name": "python",
   "nbconvert_exporter": "python",
   "pygments_lexer": "ipython3",
   "version": "3.7.5"
  }
 },
 "nbformat": 4,
 "nbformat_minor": 1
}